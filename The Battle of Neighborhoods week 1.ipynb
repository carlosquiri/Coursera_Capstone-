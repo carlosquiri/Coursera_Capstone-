{
    "cells": [
        {
            "cell_type": "markdown",
            "metadata": {
                "collapsed": true
            },
            "source": "\n<h1 align=center><font size = 6>Coursera Capstone</font></h1>\n\n<h2 align=center><font size = 6>IBM Applied Data Science Capstone</font></h2>\n\n"
        },
        {
            "cell_type": "markdown",
            "metadata": {},
            "source": "<h2 align=center><font size =5>Find the best Neigborhood to Opening a Brewery in Houston, Texas</font></h2>"
        },
        {
            "cell_type": "markdown",
            "metadata": {},
            "source": "## **Introduction**\n\nThe city of Houston is the most populous city in the U.S. state of Texas, fourth-most populous city in the United States, most populous city in the Southern United States, as well as the sixth-most populous in North America, with an estimated 2019 population of 2.3 millions. Located in Southeast Texas near Galveston Bay and the Gulf of Mexico, it is the seat of Harris County and the principal city of the Greater Houston metropolitan area, which is the fifth-most populous metropolitan statistical area in the United States with a population of 7,0 millions in 2019.\n\nThe humble brewery has evolved into a very successful commercial industry bussines, and craft breweries only continue to rise in popularity as they attract more sales and visitors each year. With the world of craft beer thriving, the opportunity is ripe for starting something of your own. But where do you begin when figuring out how to start a brewery?\n\nThis final project explores the  best locations for for opening a brewery throughout the  city  of  Houston. Potentially  the  owner of this brewery can have great success and consistent profit. However, as with any business, opening a new  location requires serious considerations  and  is  more  complicated  than  it seems from the first glance. In particular, this is one of the most important factors that will affect whether it will have success or a failure.\n"
        },
        {
            "cell_type": "markdown",
            "metadata": {},
            "source": "## **Business Problem**\n\nThe objective of this Capstone project is to analyze and select the best locations in the city of Houston to open a new Brewery. Using Data Science methodology and instruments such as Data Analysis and Visualization, this project aims to provide solutions to answer the business question: Where should the investor open a Brewery Bussiness? What kinds of people live, work, or visit the neighborhood? as wells as What other breweries or related bussiness are located in the area?"
        },
        {
            "cell_type": "markdown",
            "metadata": {},
            "source": "## **Data** \n\nTo solve the problem, we will need the following data:\n\n- Houston City data containing the neighborhoods and boroughs.\n- Latitude and longitude coordinates of those neighborhoods. This is required to plot the map and get the venue data.\n- Venue data, particularly data related to existent brewbery and related bussiness. We are going to use this data to perform further analysis of the neighborhoods."
        },
        {
            "cell_type": "markdown",
            "metadata": {},
            "source": "## **Data Source and methods to extract them**\n\nHouston City data containing the neighborhoods and boroughswill be obtained from the open data source:https://en.wikipedia.org/wiki/List_of_Houston_neighborhoods. After it, we will get the geographical coordinates of the neighborhoods (latitude and longitude) using Python Geocoder package. \n\nFinally, we will use Foursquare API to get the venue data for the neighborhoods defined at the previous step. Foursquare has one of the largest databases of 105+ million places and over 125,000 developers use this application. Foursquare API provides manycategories of the venue data; we are particularly interested in the restaurant data to solve the business problem defined above. \n\nThis project will require using of many data science skills, from web scrapping (open source dataset), working with API (Foursquare), data cleaning, data wrangling, to map visualization (Folium). In the next Methodology section,we will discuss and describe any exploratory data analysis that we did, any inferential statistical testing that we performed, and what machine learning techniques were used."
        }
    ],
    "metadata": {
        "kernelspec": {
            "display_name": "Python 3.7",
            "language": "python",
            "name": "python3"
        },
        "language_info": {
            "codemirror_mode": {
                "name": "ipython",
                "version": 3
            },
            "file_extension": ".py",
            "mimetype": "text/x-python",
            "name": "python",
            "nbconvert_exporter": "python",
            "pygments_lexer": "ipython3",
            "version": "3.7.9"
        }
    },
    "nbformat": 4,
    "nbformat_minor": 1
}